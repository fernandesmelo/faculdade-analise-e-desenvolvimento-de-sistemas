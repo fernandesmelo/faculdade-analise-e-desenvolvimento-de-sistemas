{
 "cells": [
  {
   "cell_type": "code",
   "execution_count": 4,
   "metadata": {},
   "outputs": [
    {
     "name": "stdout",
     "output_type": "stream",
     "text": [
      "A letra informada é uma vogal.\n"
     ]
    }
   ],
   "source": [
    "# 1. Faça um Programa que verifique se uma letra digitada é vogal ou consoante. \n",
    "\n",
    "letra = input(\"Digite uma letra:\")\n",
    "\n",
    "if letra == 'a' or letra == 'e' or letra == 'i' or letra == 'o' or letra == 'u':\n",
    "    print(\"A letra informada é uma vogal.\")\n",
    "else:\n",
    "    print(\"A letra informada é uma consoante.\") "
   ]
  },
  {
   "cell_type": "code",
   "execution_count": 12,
   "metadata": {},
   "outputs": [
    {
     "name": "stdout",
     "output_type": "stream",
     "text": [
      "Você deve comprar o produto no valor de 70.0\n"
     ]
    }
   ],
   "source": [
    "# 2. Faça um programa que pergunte o preço de três produtos e informe qual produto você deve comprar, sabendo que a decisão é sempre pelo mais barato. \n",
    "\n",
    "produto1 = float(input(\"Qual o preço do 1° produto?\"))\n",
    "produto2 = float(input(\"Qual o preço do 2° produto?\"))\n",
    "produto3 = float(input(\"Qual o preço do 3° produto?\"))\n",
    "\n",
    "if produto1 < produto2 and produto1 < produto3:\n",
    "    print(\"Você deve comprar o produto no valor de\", produto1)\n",
    "elif produto2 < produto1 and produto2 < produto3:\n",
    "    print(\"Você deve comprar o produto no valor de\", produto2)\n",
    "else:\n",
    "    print(\"Você deve comprar o produto no valor de\", produto3)"
   ]
  },
  {
   "cell_type": "code",
   "execution_count": 13,
   "metadata": {},
   "outputs": [
    {
     "name": "stdout",
     "output_type": "stream",
     "text": [
      "Os números em ordem decrescente são: [89.0, 34.0, 25.0]\n"
     ]
    }
   ],
   "source": [
    "# 3. Faça um Programa que leia três números e mostre-os em ordem decrescente.\n",
    "\n",
    "numero1 = float(input(\"Digite o primeiro número: \"))\n",
    "numero2 = float(input(\"Digite o segundo número: \"))\n",
    "numero3 = float(input(\"Digite o terceiro número: \"))\n",
    "\n",
    "numeros = [num1, num2, num3]\n",
    "\n",
    "numeros.sort(reverse=True)\n",
    "\n",
    "print(\"Os números em ordem decrescente são:\", numeros)\n"
   ]
  },
  {
   "cell_type": "code",
   "execution_count": 18,
   "metadata": {},
   "outputs": [
    {
     "name": "stdout",
     "output_type": "stream",
     "text": [
      "Boa Tarde!\n"
     ]
    }
   ],
   "source": [
    "# 4. Faça um Programa que pergunte em que turno você estuda. Peça para digitar M-matutino ou V-Vespertino ou N- Noturno. Imprima a mensagem \"Bom Dia!\", \"Boa Tarde!\" ou \"Boa Noite!\" ou \"Valor Inválido!\", conforme o caso. \n",
    "\n",
    "turno = input(\"Qual turno você estuda? Digite M para Matutino, V para Vespertino ou N para Noturno: \")\n",
    "\n",
    "if turno == 'M':\n",
    "    print(\"Bom Dia!\")\n",
    "elif turno == \"V\":\n",
    "    print(\"Boa Tarde!\")\n",
    "elif turno == 'N':\n",
    "    print(\"Boa Noite!\")\n",
    "else:\n",
    "    print(\"Valor Inválido!\")\n"
   ]
  },
  {
   "cell_type": "code",
   "execution_count": 20,
   "metadata": {},
   "outputs": [
    {
     "name": "stdout",
     "output_type": "stream",
     "text": [
      "Valor inválido\n"
     ]
    }
   ],
   "source": [
    "# 5. Faça um Programa que leia um número e exiba o dia correspondente da semana. (1-Domingo, 2- Segunda, etc). Se for digitado outro valor deve retornar uma mensagem informando valor inválido. \n",
    "\n",
    "dia = int(input(\"Digite um número de 1 a 7:\"))\n",
    "\n",
    "dias_da_semana = {\n",
    "    1: \"Domingo\",\n",
    "    2: \"Segunda\",\n",
    "    3: \"Terça\",\n",
    "    4: \"Quarta\",\n",
    "    5: \"Quinta\",\n",
    "    6: \"Sexta\",\n",
    "    7: \"Sábado\"\n",
    "}\n",
    "\n",
    "if dia in dias_da_semana:\n",
    "    print(\"O dia da semana é:\", dias_da_semana[dia])\n",
    "else:\n",
    "    print(\"Valor inválido!\")"
   ]
  },
  {
   "cell_type": "code",
   "execution_count": 28,
   "metadata": {},
   "outputs": [
    {
     "name": "stdout",
     "output_type": "stream",
     "text": [
      "1º nota: 2.5\n",
      "2º nota: 9.5\n",
      "Média: 6.0\n",
      "Conceito: D\n",
      "Situação: REPROVADO\n"
     ]
    }
   ],
   "source": [
    "# 6. Faça um programa que lê as duas notas parciais obtidas por um aluno numa disciplina ao longo de um semestre, e calcule a sua média. A atribuição de conceitos obedece às regras: \n",
    "\n",
    "# Média de Aproveitamento      Conceito \n",
    "# Entre 9.0 e 10.0             A \n",
    "# Entre 7.5 e 9.0 8            B\n",
    "# Entre 6.9 e 7.5              C \n",
    "# Entre 4.0 e 6.9              D \n",
    "# Entre 4.0 e zero             E \n",
    "\n",
    "# O programa deve mostrar na tela as notas, a média, o conceito correspondente e a mensagem \"APROVADO\" se o conceito for A, B ou C ou \"REPROVADO\" se o conceito for D ou E. \n",
    "\n",
    "nota1 = float(input(\"Informe a 1° nota:\"))\n",
    "nota2 = float(input(\"Informe a 2° nota:\"))\n",
    "\n",
    "# Calcula a média das notas\n",
    "media = (nota1 + nota2) / 2\n",
    "\n",
    "# Determina o conceito com base na média\n",
    "if 9.0 <= media <= 10.0:\n",
    "    conceito = 'A'\n",
    "    situacao = \"APROVADO\"\n",
    "elif 7.5 <= media < 9.0:\n",
    "    conceito = 'B'\n",
    "    situacao = \"APROVADO\"\n",
    "elif 6.9 <= media < 7.5:\n",
    "    conceito = 'C'\n",
    "    situacao = \"APROVADO\"\n",
    "elif 4.0 <= media < 6.9:\n",
    "    conceito = 'D'\n",
    "    situacao = \"REPROVADO\"\n",
    "else:\n",
    "    conceito = 'E'\n",
    "    situacao = \"REPROVADO\"\n",
    "\n",
    "print(\"1º nota:\", nota1)\n",
    "print(\"2º nota:\", nota2)\n",
    "print(\"Média:\", media)\n",
    "print(\"Conceito:\", conceito)\n",
    "print(\"Situação:\", situacao)\n",
    "\n"
   ]
  },
  {
   "cell_type": "code",
   "execution_count": 30,
   "metadata": {},
   "outputs": [
    {
     "name": "stdout",
     "output_type": "stream",
     "text": [
      "O ano 1998 não é bissexto.\n"
     ]
    }
   ],
   "source": [
    "# 7. Faça um Programa que peça um número correspondente a um determinado ano e em seguida informe se este ano é ou não bissexto.\n",
    "\n",
    "ano = int(input(\"Digite um ano:\"))\n",
    "\n",
    "if (ano % 4 == 0 and ano % 100 != 0) or (ano % 400 == 0):\n",
    "    print(\"O ano\", ano, \"é bissexto.\")\n",
    "else:\n",
    "    print(\"O ano\", ano, \"não é bissexto.\")\n"
   ]
  },
  {
   "cell_type": "code",
   "execution_count": 15,
   "metadata": {},
   "outputs": [
    {
     "name": "stdout",
     "output_type": "stream",
     "text": [
      "O resultado da multiplicação é 925.0, que é um número ímpar, positivo e decimal.\n"
     ]
    }
   ],
   "source": [
    "# 8. Faça um Programa que leia 2 números e em seguida pergunte ao usuário qual operação básica(soma, subtração, multiplicação, divisão, exponenciação) ele deseja realizar. O resultado da operação deve ser acompanhado de uma frase que diga se o número é: par ou ímpar; positivo ou negativo; inteiro ou decimal.\n",
    "\n",
    "num1 = float(input(\"Digite o primeiro número: \"))\n",
    "num2 = float(input(\"Digite o segundo número: \"))\n",
    "\n",
    "operacao = input(\"Digite o número da operação (1 = Soma / 2 = Subtração / 3 = Multiplicação / 4 = Divisão / 5 = Exponenciação):\")\n",
    "\n",
    "# Realização da operação\n",
    "if operacao == \"1\":\n",
    "    resultado = num1 + num2\n",
    "    operacao_str = \"soma\"\n",
    "elif operacao == \"2\":\n",
    "    resultado = num1 - num2\n",
    "    operacao_str = \"subtração\"\n",
    "elif operacao == \"3\":\n",
    "    resultado = num1 * num2\n",
    "    operacao_str = \"multiplicação\"\n",
    "elif operacao == \"4\":\n",
    "    if num2 == 0:\n",
    "        print(\"Erro: Divisão por zero não é permitida.\")\n",
    "    else:\n",
    "        resultado = num1 / num2\n",
    "        operacao_str = \"divisão\"\n",
    "elif operacao == \"5\":\n",
    "    resultado = num1 ** num2\n",
    "    operacao_str = \"exponenciação\"\n",
    "else:\n",
    "    print(\"Operação inválida.\")\n",
    "\n",
    "# Verificação e exibição das características do resultado\n",
    "if resultado is not None:\n",
    "    # Verificação de paridade\n",
    "    if resultado % 2 == 0:\n",
    "        paridade = \"par\"\n",
    "    else:\n",
    "        paridade = \"ímpar\"\n",
    "    \n",
    "    # Verificação de positividade\n",
    "    if resultado > 0:\n",
    "        positividade = \"positivo\"\n",
    "    elif resultado < 0:\n",
    "        positividade = \"negativo\"\n",
    "    else:\n",
    "        positividade = \"zero\"\n",
    "\n",
    "    # Verificação do tipo\n",
    "    if type(resultado) == int:\n",
    "        tipo = \"inteiro\"\n",
    "    else:\n",
    "        tipo = \"decimal\"\n",
    "\n",
    "print(f\"O resultado da {operacao_str} é {resultado}, que é um número {paridade}, {positividade} e {tipo}.\")\n"
   ]
  },
  {
   "cell_type": "code",
   "execution_count": 18,
   "metadata": {},
   "outputs": [
    {
     "name": "stdout",
     "output_type": "stream",
     "text": [
      "Idade inválida!\n"
     ]
    }
   ],
   "source": [
    "# 9. Faca um programa que peça a idade e exiba a informação. Os valores aceitáveis devem estar entre 0 e 150. Valores fora desse limite nao poderao ser aceitos. \n",
    "\n",
    "idade = int(input(\"Informe sua idade:\"))\n",
    "\n",
    "if idade >= 0 and idade <= 150:\n",
    "    print(\"Indade válida!\")\n",
    "else:\n",
    "    print(\"Idade inválida!\")"
   ]
  },
  {
   "cell_type": "code",
   "execution_count": 6,
   "metadata": {},
   "outputs": [
    {
     "name": "stdout",
     "output_type": "stream",
     "text": [
      "A soma dos números é:  150.0\n",
      "A média dos números é:  30.0\n"
     ]
    }
   ],
   "source": [
    "# 10. Utilizando estruturas de repetição e listas (com ou sem .append), faça um programa que leia 5 números e informe a soma e a média dos números. \n",
    "\n",
    "numeros = []\n",
    "soma = 0\n",
    "\n",
    "for contador in range(5):\n",
    "    num = float(input(\"Me diga um número: \"))\n",
    "    numeros.append(numero)\n",
    "    soma += numero\n",
    "\n",
    "media = soma / len(numeros)\n",
    "\n",
    "print(\"A soma dos números é: \", soma)\n",
    "print(\"A média dos números é: \", media)\n",
    "\n",
    "\n"
   ]
  },
  {
   "cell_type": "code",
   "execution_count": 13,
   "metadata": {},
   "outputs": [
    {
     "name": "stdout",
     "output_type": "stream",
     "text": [
      "5 é um número primo.\n"
     ]
    }
   ],
   "source": [
    "# 11. Faça um programa que peça um número inteiro e determine se ele é ou não um número primo. Um número primo é aquele que é divisível somente por ele mesmo e por 1. \n",
    "\n",
    "numero = int(input(\"Me fale um número inteiro:\"))\n",
    "\n",
    "if numero < 2:\n",
    "    print(numero, \"não é um número primo.\")\n",
    "else:\n",
    "    for contador in range(2, numero):\n",
    "        if numero % contador == 0:\n",
    "            print(numero, \"não é um número primo.\")\n",
    "            break\n",
    "    else:\n",
    "        print(numero, \"é um número primo.\")\n"
   ]
  },
  {
   "cell_type": "code",
   "execution_count": 14,
   "metadata": {},
   "outputs": [
    {
     "name": "stdout",
     "output_type": "stream",
     "text": [
      "A menor temperatura é:  1.0\n",
      "A maior temperatura é:  5.0\n",
      "A média das temperaturas é:  3.0\n"
     ]
    }
   ],
   "source": [
    "# 12. O Departamento Estadual de Meteorologia o contratou para desenvolver um programa que leia 5 temperaturas, e informe ao final a menor e a maior temperaturas informadas, bem como a média das temperaturas. \n",
    "\n",
    "temperaturas = []\n",
    "soma = 0\n",
    "\n",
    "for contador in range(5):\n",
    "    temperatura = float(input(\"Me diga uma temperatura:\"))\n",
    "    temperaturas.append(temperatura)\n",
    "    soma += temperatura\n",
    "\n",
    "menor = temperaturas[0]\n",
    "maior = temperaturas[0]\n",
    "for temperatura in temperaturas:\n",
    "    if temperatura < menor:\n",
    "        menor = temperatura\n",
    "    if temperatura > maior:\n",
    "        maior = temperatura\n",
    "\n",
    "media = soma / len(temperaturas)\n",
    "\n",
    "print(\"A menor temperatura é: \", menor)\n",
    "print(\"A maior temperatura é: \", maior)\n",
    "print(\"A média das temperaturas é: \", media)"
   ]
  },
  {
   "cell_type": "code",
   "execution_count": 28,
   "metadata": {},
   "outputs": [
    {
     "name": "stdout",
     "output_type": "stream",
     "text": [
      "O saldo médio é:  1000.0\n",
      "O valor do crédito é:  400.0\n"
     ]
    }
   ],
   "source": [
    "# 13. Um banco concedeu um crédito especial aos seus clientes, variável com o saldo médio no último ano. Faça um algoritmo que leia o saldo médio de um cliente e calcule o valor do crédito de acordo com a tabela abaixo. Mostre uma mensagem informando o saldo médio e o valor do crédito.\n",
    "\n",
    "# SaIdo médio         Percentual \n",
    "# de 0 a 200          nenhum credito \n",
    "# de 201 a 400        20% do valor do saldo médio \n",
    "# de 401 a 600        30% do valor do saldo médio\n",
    "# acima de 601        40% do valor do saldo médio  \n",
    "\n",
    "saldoMedio = float(input(\"Informe seu saldo médio do último ano:\"))\n",
    "\n",
    "if saldoMedio >= 0 and saldoMedio <= 200:\n",
    "    credito = 0\n",
    "elif saldoMedio >= 201 and saldoMedio <= 400:\n",
    "    credito = saldoMedio * 0.20\n",
    "elif saldoMedio >= 401 and saldoMedio <= 600:\n",
    "    credito = saldoMedio * 0.30\n",
    "else: \n",
    "    credito = saldoMedio * 0.40\n",
    "\n",
    "print(\"O saldo médio é: \", saldoMedio)\n",
    "print(\"O valor do crédito é: \", credito)\n"
   ]
  },
  {
   "cell_type": "code",
   "execution_count": 3,
   "metadata": {},
   "outputs": [
    {
     "name": "stdout",
     "output_type": "stream",
     "text": [
      "Olá, Gabriel . Você poderá se aposentar no ano 2076 .\n"
     ]
    }
   ],
   "source": [
    "# 14. Você foi contratado(a) para fazer um serviço para o INSS (Instituto Nacional do Seguro Social) do Brasil. O trabalho consiste em criar um programa que diga a pessoa o ano que ela poderá se aposentar. Você deve perguntar a pessoa, o nome, a idade e criar uma mensagem.\n",
    "\n",
    "nome = input(\"Me diga o seu nome:\")\n",
    "idade = int(input(\"Agora me diga sua idade:\"))\n",
    "genero = input(\"Por favor, me diga seu gênero (M para masculino, F para feminino):\")\n",
    "\n",
    "anoAtual = 2024  \n",
    "\n",
    "if genero.upper() == 'M':\n",
    "    idadeAposentadoria = 65\n",
    "else:\n",
    "    idadeAposentadoria = 62\n",
    "\n",
    "anosRestantes = idadeAposentadoria - idade\n",
    "anoAposentadoria = anoAtual + anosRestantes\n",
    "\n",
    "print(\"Olá,\", nome,\". Você poderá se aposentar no ano\", anoAposentadoria,\".\")"
   ]
  },
  {
   "cell_type": "code",
   "execution_count": 9,
   "metadata": {},
   "outputs": [
    {
     "name": "stdout",
     "output_type": "stream",
     "text": [
      "Salário Bruto: R$ 6000.0\n",
      "(-) IR (7.5%): R$ 1650.0000000000002\n",
      "(-) Sindicato (3%): R$ 180.0\n",
      "FGTS (11%): R$ 660.0\n",
      "Total de descontos: R$ 1830.0000000000002\n",
      "Salário Líquido: R$ 4170.0\n"
     ]
    }
   ],
   "source": [
    "# 15. Faça um programa para o cálculo de uma folha de pagamento, sabendo que os descontos são do imposto de Renda, que depende do salário bruto (conforme tabela abaixo), 3% para o Sindicato e que o FGTS corresponde a 11% do salário bruto, mas não é descontado (é a empresa que deposita). O salário líquido corresponde ao salário bruto menos os descontos. O programa deverá pedir ao usuário o valor da sua hora e a quantidade de horas trabalhadas no mês. \n",
    "\n",
    "# Desconto do IR: \n",
    "# Salário Bruto até R$ 2.112,00(inclusive) - Isento; \n",
    "# De 2.112,01 até 2.826,65(inclusive) - desconto de 7.5%; \n",
    "# De 2.826,66 até 3.751,05(inclusive) - desconto de 15%; \n",
    "# De 3.751,06 até 4.664,68(inclusive) - desconto de 22.5%; \n",
    "# Acima de 4.664,68 - desconto de 27.5%. \n",
    "\n",
    "valorHora = float(input(\"Digite o valor da sua hora de trabalho:\"))\n",
    "horasTrabalhadas = float(input(\"Digite a quantidade de horas trabalhadas no mês:\"))\n",
    "\n",
    "salarioBruto = valorHora * horasTrabalhadas\n",
    "\n",
    "if salarioBruto <= 2112.00:\n",
    "    descontoIr = 0\n",
    "elif salarioBruto >= 2112.01 and salarioBruto <= 2826.65:\n",
    "    descontoIr = salarioBruto * 0.075\n",
    "elif salarioBruto >= 2826.66 and salarioBruto <= 3751.05:\n",
    "    descontoIr = salarioBruto * 0.15\n",
    "elif descontoIr >= 3751.06 and salarioBruto <= 4664.68:\n",
    "    descontoIr = salarioBruto * 0.225\n",
    "else:\n",
    "    descontoIr = salarioBruto * 0.275\n",
    "\n",
    "descontoSindicato = salarioBruto * 0.03\n",
    "\n",
    "fgts = salarioBruto * 0.11\n",
    "\n",
    "salarioLiquido = salarioBruto - descontoIr - descontoSindicato\n",
    "\n",
    "print(\"Salário Bruto: R$\", salarioBruto)\n",
    "print(\"(-) IR (7.5%): R$\", descontoIr)\n",
    "print(\"(-) Sindicato (3%): R$\", descontoSindicato)\n",
    "print(\"FGTS (11%): R$\", fgts)\n",
    "print(\"Total de descontos: R$\", descontoIr + descontoSindicato)\n",
    "print(\"Salário Líquido: R$\", salarioLiquido)\n"
   ]
  }
 ],
 "metadata": {
  "kernelspec": {
   "display_name": "Python 3",
   "language": "python",
   "name": "python3"
  },
  "language_info": {
   "codemirror_mode": {
    "name": "ipython",
    "version": 3
   },
   "file_extension": ".py",
   "mimetype": "text/x-python",
   "name": "python",
   "nbconvert_exporter": "python",
   "pygments_lexer": "ipython3",
   "version": "3.12.2"
  }
 },
 "nbformat": 4,
 "nbformat_minor": 2
}
