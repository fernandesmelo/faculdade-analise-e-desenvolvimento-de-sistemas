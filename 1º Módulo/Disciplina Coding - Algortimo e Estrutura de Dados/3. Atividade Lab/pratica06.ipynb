{
 "cells": [
  {
   "cell_type": "code",
   "execution_count": 17,
   "metadata": {},
   "outputs": [
    {
     "name": "stdout",
     "output_type": "stream",
     "text": [
      "Ano de fabricação do carro: 2024\n",
      "Preço do carro: R$ 100.0\n",
      "Taxa: 1.5%\n",
      "O imposto a ser pago é de R$ 1.5\n"
     ]
    }
   ],
   "source": [
    "# Num determinado Estado, para transferências de veículos, o DETRAN cobra\n",
    "# uma taxa de 1% para carros fabricados antes de 1990 e uma taxa de 1.5%\n",
    "# para os fabricados de 1990 em diante, a taxa está incidindo sobre o valor do\n",
    "# carro. Faça uma algoritmo lê o ano e o preço do carro e a seguir calcula e\n",
    "# imprime o imposto a ser pago.\n",
    "\n",
    "anoFabricacao = int(input(\"Qual o ano do carro?\"))\n",
    "precoCarro = float(input(\"Qual o valor do carro? R$\"))\n",
    "\n",
    "if anoFabricacao < 1990:\n",
    "    taxa = 0.01\n",
    "    print(\"Ano de fabricação do carro:\", anoFabricacao)\n",
    "    print(\"Preço do carro: R$\",precoCarro)\n",
    "    print(\"Taxa: 1%\")\n",
    "else:\n",
    "    taxa = 0.015\n",
    "    print(\"Ano de fabricação do carro:\", anoFabricacao)\n",
    "    print(\"Preço do carro: R$\",precoCarro)\n",
    "    print(\"Taxa: 1.5%\")\n",
    "\n",
    "imposto = precoCarro * taxa\n",
    "\n",
    "print(\"O imposto a ser pago é de R$\", imposto)"
   ]
  }
 ],
 "metadata": {
  "kernelspec": {
   "display_name": "Python 3",
   "language": "python",
   "name": "python3"
  },
  "language_info": {
   "codemirror_mode": {
    "name": "ipython",
    "version": 3
   },
   "file_extension": ".py",
   "mimetype": "text/x-python",
   "name": "python",
   "nbconvert_exporter": "python",
   "pygments_lexer": "ipython3",
   "version": "3.12.2"
  }
 },
 "nbformat": 4,
 "nbformat_minor": 2
}
