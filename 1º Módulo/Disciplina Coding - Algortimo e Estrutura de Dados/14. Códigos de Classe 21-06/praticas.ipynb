{
 "cells": [
  {
   "cell_type": "code",
   "execution_count": 6,
   "metadata": {},
   "outputs": [
    {
     "name": "stdout",
     "output_type": "stream",
     "text": [
      "Nome: Marlene \n",
      "Peso: 7.9\n",
      "Au, Au!\n",
      "Nome: Cibele \n",
      "Peso: 4.5\n",
      "Miau!\n"
     ]
    }
   ],
   "source": [
    "# Criando um classe\n",
    "class Pet():\n",
    "    # Construtor da classe\n",
    "    def __init__(self, name, weight, color):\n",
    "        # Atributos\n",
    "        self.nome = name\n",
    "        self.peso = weight\n",
    "        self.corDoPelo = color\n",
    "\n",
    "    def imprimirDados(self):\n",
    "        return(\"Nome: %s \\nPeso: %s\" % (self.nome, self.peso))\n",
    "\n",
    "    def som(self, barulho):\n",
    "        print(barulho)\n",
    "\n",
    "# Instanciando um cachorro\n",
    "caozinho = Pet(\"Marlene\", 7.9, \"Caramelo\")\n",
    "gato = Pet(\"Cibele\", 4.5, \"Cinza\")\n",
    "\n",
    "# Chamando o método do objeto criado\n",
    "print(caozinho.imprimirDados())\n",
    "caozinho.som(\"Au, Au!\")\n",
    "\n",
    "print(gato.imprimirDados())\n",
    "gato.som(\"Miau!\")\n"
   ]
  },
  {
   "cell_type": "code",
   "execution_count": null,
   "metadata": {},
   "outputs": [],
   "source": [
    "#FUNÇÃO x MÉTODO\n",
    "\n",
    "range(10)\n",
    "range(0, 10)\n"
   ]
  },
  {
   "cell_type": "code",
   "execution_count": 9,
   "metadata": {},
   "outputs": [
    {
     "name": "stdout",
     "output_type": "stream",
     "text": [
      "Construtor chamado para criar um objeto desta classe\n",
      "Foi criado o livro A Menina que Roubava Livros e ISBN 77886611\n"
     ]
    }
   ],
   "source": [
    "#Criando uma classe chamada Livro\n",
    "class Livro():\n",
    "    def __init__(self, title, isbn):\n",
    "        self.titulo = title\n",
    "        self.isbn = isbn\n",
    "        print(\"Construtor chamado para criar um objeto desta classe\")\n",
    "\n",
    "    def imprime(self):\n",
    "        print(\"Foi criado o livro %s e ISBN %d\" %(self.titulo, self.isbn))\n",
    "\n",
    "#Criando uma instância da classe Livro        \n",
    "Livro1 = Livro(\"A Menina que Roubava Livros\", 77886611)\n",
    "\n",
    "#Tipo do objeto Livro1\n",
    "type(Livro1)\n",
    "\n",
    "#Atribuindo do objeto Livro1\n",
    "Livro1.titulo\n",
    "\n",
    "#Método do objeto Livro1\n",
    "Livro1.imprime()"
   ]
  },
  {
   "cell_type": "code",
   "execution_count": 11,
   "metadata": {},
   "outputs": [],
   "source": [
    "#Criando a classe Animal - Super-classe\n",
    "class Animal():\n",
    "    def __init__(self):\n",
    "        print(\"Animal criado\")\n",
    "\n",
    "    def Identif(self):\n",
    "        print(\"Animal\")\n",
    "\n",
    "    def comer(self):\n",
    "        print(\"Comendo\")"
   ]
  },
  {
   "cell_type": "code",
   "execution_count": 13,
   "metadata": {},
   "outputs": [],
   "source": [
    "#Criando a classe Cachorro - Super-classe\n",
    "class Cachorro(Animal):\n",
    "    def __init__(self):\n",
    "        Animal.__init__(self)\n",
    "        print(\"Objeto Cachorro criado\")\n",
    "\n",
    "    def Identif(self):\n",
    "        print(\"Cachorro\")\n",
    "\n",
    "    def comer(self):\n",
    "        print(\"Au Au!\")"
   ]
  }
 ],
 "metadata": {
  "kernelspec": {
   "display_name": "Python 3",
   "language": "python",
   "name": "python3"
  },
  "language_info": {
   "codemirror_mode": {
    "name": "ipython",
    "version": 3
   },
   "file_extension": ".py",
   "mimetype": "text/x-python",
   "name": "python",
   "nbconvert_exporter": "python",
   "pygments_lexer": "ipython3",
   "version": "3.12.2"
  }
 },
 "nbformat": 4,
 "nbformat_minor": 2
}
