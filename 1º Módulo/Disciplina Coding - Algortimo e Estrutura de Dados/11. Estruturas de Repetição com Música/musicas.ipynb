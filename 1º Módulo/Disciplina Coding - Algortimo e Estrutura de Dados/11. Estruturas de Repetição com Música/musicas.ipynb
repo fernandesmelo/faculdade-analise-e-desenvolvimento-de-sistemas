{
 "cells": [
  {
   "cell_type": "code",
   "execution_count": 3,
   "metadata": {},
   "outputs": [
    {
     "name": "stdout",
     "output_type": "stream",
     "text": [
      "5 patinhos foram passear... Além das montanhas para brincar. A mamãe gritou: Quá, quá, quá, quá! Mas só 4 patinhos voltaram de lá.\n",
      "4 patinhos foram passear... Além das montanhas para brincar. A mamãe gritou: Quá, quá, quá, quá! Mas só 3 patinhos voltaram de lá.\n",
      "3 patinhos foram passear... Além das montanhas para brincar. A mamãe gritou: Quá, quá, quá, quá! Mas só 2 patinhos voltaram de lá.\n",
      "2 patinhos foram passear... Além das montanhas para brincar. A mamãe gritou: Quá, quá, quá, quá! Mas só 1 patinhos voltaram de lá.\n",
      "1 patinho foi passear... Além das montanhas para brincar. A mamãe gritou: Quá, quá, quá, quá! Mas nenhum patinho voltou de lá.\n",
      "A mamãe patinha foi procurar... Além das montanhas, na beira do mar. A mamãe gritou: Quá, quá, quá, quá! E os 5 patinhos voltaram de lá.\n"
     ]
    }
   ],
   "source": [
    "for patinho in [5, 4, 3, 2, 1]: \n",
    "    if patinho != 1: \n",
    "        print (patinho, \"patinhos foram passear... Além das montanhas para brincar. A mamãe gritou: Quá, quá, quá, quá! Mas só\", patinho - 1, \"patinhos voltaram de lá.\")\n",
    "    else:\n",
    "        print (patinho, \"patinho foi passear... Além das montanhas para brincar. A mamãe gritou: Quá, quá, quá, quá! Mas nenhum patinho voltou de lá.\" ) \n",
    "\n",
    "print(\"A mamãe patinha foi procurar... Além das montanhas, na beira do mar. A mamãe gritou: Quá, quá, quá, quá! E os 5 patinhos voltaram de lá.\") "
   ]
  },
  {
   "cell_type": "code",
   "execution_count": 12,
   "metadata": {},
   "outputs": [
    {
     "name": "stdout",
     "output_type": "stream",
     "text": [
      "1 Elefante incomoda muita gente...\n",
      "2 Elefantes incomodam,incomodam, muito mais.\n",
      "2 Elefantes incomodam muita gente...\n",
      "3 Elefantes incomodam,incomodam,incomodam, muito mais.\n",
      "3 Elefantes incomodam muita gente...\n"
     ]
    }
   ],
   "source": [
    "quantidadeElefantes = int(input(\"Digite quantos números de elefantes você quer:\")) \n",
    "\n",
    "for contador in range (1, quantidadeElefantes + 1): \n",
    "    if contador == 1: \n",
    "        print(contador,\"Elefante incomoda muita gente...\")\n",
    "    else: \n",
    "        incomodam = (\"incomodam,\" * contador) \n",
    "        print(contador, \"Elefantes\", incomodam,\"muito mais.\") \n",
    "        print(contador, \"Elefantes incomodam muita gente...\")"
   ]
  },
  {
   "cell_type": "code",
   "execution_count": 22,
   "metadata": {},
   "outputs": [
    {
     "name": "stdout",
     "output_type": "stream",
     "text": [
      "Mariana conta 1 , Mariana conta 1\n",
      "é 1\n",
      "Ana, viva Mariana, viva Mariana.\n",
      "Mariana conta 2 , Mariana conta 2\n",
      "é 1\n",
      "é 2\n",
      "Ana, viva Mariana, viva Mariana.\n",
      "Mariana conta 3 , Mariana conta 3\n",
      "é 1\n",
      "é 2\n",
      "é 3\n",
      "Ana, viva Mariana, viva Mariana.\n",
      "Mariana conta 4 , Mariana conta 4\n",
      "é 1\n",
      "é 2\n",
      "é 3\n",
      "é 4\n",
      "Ana, viva Mariana, viva Mariana.\n",
      "Mariana conta 5 , Mariana conta 5\n",
      "é 1\n",
      "é 2\n",
      "é 3\n",
      "é 4\n",
      "é 5\n",
      "Ana, viva Mariana, viva Mariana.\n",
      "Mariana conta 6 , Mariana conta 6\n",
      "é 1\n",
      "é 2\n",
      "é 3\n",
      "é 4\n",
      "é 5\n",
      "é 6\n",
      "Ana, viva Mariana, viva Mariana.\n",
      "Mariana conta 7 , Mariana conta 7\n",
      "é 1\n",
      "é 2\n",
      "é 3\n",
      "é 4\n",
      "é 5\n",
      "é 6\n",
      "é 7\n",
      "Ana, viva Mariana, viva Mariana.\n",
      "Mariana conta 8 , Mariana conta 8\n",
      "é 1\n",
      "é 2\n",
      "é 3\n",
      "é 4\n",
      "é 5\n",
      "é 6\n",
      "é 7\n",
      "é 8\n",
      "Ana, viva Mariana, viva Mariana.\n",
      "Mariana conta 9 , Mariana conta 9\n",
      "é 1\n",
      "é 2\n",
      "é 3\n",
      "é 4\n",
      "é 5\n",
      "é 6\n",
      "é 7\n",
      "é 8\n",
      "é 9\n",
      "Ana, viva Mariana, viva Mariana.\n",
      "Mariana conta 10 , Mariana conta 10\n",
      "é 1\n",
      "é 2\n",
      "é 3\n",
      "é 4\n",
      "é 5\n",
      "é 6\n",
      "é 7\n",
      "é 8\n",
      "é 9\n",
      "é 10\n",
      "Ana, viva Mariana, viva Mariana.\n"
     ]
    }
   ],
   "source": [
    "for contador in range (1, 11): \n",
    "    print(\"Mariana conta\", contador,\", Mariana conta\", contador) \n",
    "    for contador2 in range (1, contador + 1): \n",
    "        print(\"é\", contador2) \n",
    "    print(\"Ana, viva Mariana, viva Mariana.\")"
   ]
  }
 ],
 "metadata": {
  "kernelspec": {
   "display_name": "Python 3",
   "language": "python",
   "name": "python3"
  },
  "language_info": {
   "codemirror_mode": {
    "name": "ipython",
    "version": 3
   },
   "file_extension": ".py",
   "mimetype": "text/x-python",
   "name": "python",
   "nbconvert_exporter": "python",
   "pygments_lexer": "ipython3",
   "version": "3.12.2"
  }
 },
 "nbformat": 4,
 "nbformat_minor": 2
}
