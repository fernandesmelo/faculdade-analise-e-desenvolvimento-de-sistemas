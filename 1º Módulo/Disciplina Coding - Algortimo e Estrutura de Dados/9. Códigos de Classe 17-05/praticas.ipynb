{
 "cells": [
  {
   "cell_type": "code",
   "execution_count": 3,
   "metadata": {},
   "outputs": [
    {
     "name": "stdout",
     "output_type": "stream",
     "text": [
      "5 patinhos foram passear... Além das montanhas para brincar. A mamãe gritou: Quá, quá, quá, quá! Mas só 4 patinhos voltaram de lá.\n",
      "4 patinhos foram passear... Além das montanhas para brincar. A mamãe gritou: Quá, quá, quá, quá! Mas só 3 patinhos voltaram de lá.\n",
      "3 patinhos foram passear... Além das montanhas para brincar. A mamãe gritou: Quá, quá, quá, quá! Mas só 2 patinhos voltaram de lá.\n",
      "2 patinhos foram passear... Além das montanhas para brincar. A mamãe gritou: Quá, quá, quá, quá! Mas só 1 patinhos voltaram de lá.\n",
      "1 patinho foi passear... Além das montanhas para brincar. A mamãe gritou: Quá, quá, quá, quá! Mas nenhum patinho voltou de lá.\n",
      "A mamãe patinha foi procurar... Além das montanhas, na beira do mar. A mamãe gritou: Quá, quá, quá, quá! E os 5 patinhos voltaram de lá.\n"
     ]
    }
   ],
   "source": [
    "for patinho in [5, 4, 3, 2, 1]: \n",
    "    if patinho != 1: \n",
    "        print (patinho, \"patinhos foram passear... Além das montanhas para brincar. A mamãe gritou: Quá, quá, quá, quá! Mas só\", patinho - 1, \"patinhos voltaram de lá.\")\n",
    "    else:\n",
    "        print (patinho, \"patinho foi passear... Além das montanhas para brincar. A mamãe gritou: Quá, quá, quá, quá! Mas nenhum patinho voltou de lá.\" ) \n",
    "\n",
    "print(\"A mamãe patinha foi procurar... Além das montanhas, na beira do mar. A mamãe gritou: Quá, quá, quá, quá! E os 5 patinhos voltaram de lá.\") "
   ]
  }
 ],
 "metadata": {
  "kernelspec": {
   "display_name": "Python 3",
   "language": "python",
   "name": "python3"
  },
  "language_info": {
   "codemirror_mode": {
    "name": "ipython",
    "version": 3
   },
   "file_extension": ".py",
   "mimetype": "text/x-python",
   "name": "python",
   "nbconvert_exporter": "python",
   "pygments_lexer": "ipython3",
   "version": "3.12.2"
  }
 },
 "nbformat": 4,
 "nbformat_minor": 2
}
