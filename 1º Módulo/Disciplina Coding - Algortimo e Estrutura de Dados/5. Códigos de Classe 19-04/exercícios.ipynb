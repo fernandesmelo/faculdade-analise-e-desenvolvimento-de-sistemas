{
 "cells": [
  {
   "cell_type": "code",
   "execution_count": null,
   "metadata": {},
   "outputs": [],
   "source": [
    "# Uma empresa concederá um aumento de salário aos seus funcionários, variável de acordo com o cargo, conforme a tabela abaixo. Faça um algoritmo que leia o salário e o cargo de um funcionário e calcule o novo salário. Se o cargo do funcionário não estiver na tabela, ele deverá, então, receber 40% de aumento. Mostre o salário antigo, o novo salário e a diferença.\n",
    "\n",
    "# Código  Cargo       Percentual \n",
    "# 101     Gerente     10%\n",
    "# 102     Engenheiro  20%\n",
    "# 103     Técnico     30%\n",
    "\n",
    "salario = float(input(\"Informe seu salário: \"))\n",
    "cargo = input(\"Informe seu cargo: \")\n",
    "\n",
    "if cargo == \"Gerente\":\n",
    "    porcentualAumento = 0.10\n",
    "    print(\"Cargo: Gerente\")\n",
    "    print(\"Aumento: 10%\")\n",
    "elif cargo == \"Engenheiro\":\n",
    "    porcentualAumento = 0.20\n",
    "    print(\"Cargo: Engenheiro\")\n",
    "    print(\"Aumento: 20%\")\n",
    "elif cargo == \"Técnico\":\n",
    "    porcentualAumento = 0.30\n",
    "    print(\"Cargo: Técnico\")\n",
    "    print(\"Aumento: 30%\")\n",
    "else:\n",
    "    porcentualAumento = 0.40\n",
    "    print(\"Cargo:\", cargo)\n",
    "    print(\"Aumento: 40%\")\n",
    "\n",
    "aumentoSalario = salario * porcentualAumento\n",
    "\n",
    "novoSalario = aumentoSalario + salario\n",
    "\n",
    "print(\"Salário Antigo: R$\", salario)\n",
    "print(\"Aumento: R$\", aumentoSalario)\n",
    "print(\"Novo Salário: R$\", novoSalario)"
   ]
  },
  {
   "cell_type": "code",
   "execution_count": 6,
   "metadata": {},
   "outputs": [
    {
     "name": "stdout",
     "output_type": "stream",
     "text": [
      "[76, 92.3, 'oi', True, 4, 76, 'pitomba', 76]\n",
      "[76, 92.3, 'oi', 'Cibele', True, 4, 76, 'pitomba', 76]\n",
      "[99, 92.3, 'oi', 'Cibele', True, 4, 76, 'pitomba', 76]\n",
      "True\n",
      "[99, 92.3, 'oi', 'Cibele', 4, 76, 'pitomba', 76]\n"
     ]
    }
   ],
   "source": [
    "# Cria uma lista chamada minhaLista com os seguintes itens: 76, 92.3, \"oi\", True, 4, 76. Depois execute os seguintes cimandos:\n",
    "\n",
    "# a) Inserir \"pitomba\" e 76 no final da lista.\n",
    "# b) Inserir o valor \"Cibele\" na posição de índice 3.\n",
    "# c) Inserir o valor 99 no início da lista.\n",
    "# d) Encontrar o índice de \"oi\".\n",
    "# e) Remover True da lista.\n",
    "\n",
    "# LETRA A\n",
    "minhaLista = [76, 92.3, \"oi\", True, 4, 76]\n",
    "minhaLista2 = [\"pitomba\", 76]\n",
    "minhaLista3 = minhaLista + minhaLista2\n",
    "print(minhaLista3)\n",
    "\n",
    "# LETRA B\n",
    "minhaLista4 = [76, 92.3, \"oi\"]\n",
    "minhaLista5 = [\"Cibele\"]\n",
    "minhaLista6 = [True, 4,76]\n",
    "minhaLista7 = minhaLista4 + minhaLista5 + minhaLista6\n",
    "print(minhaLista7)\n",
    "\n",
    "# LETRA C\n",
    "minhaLista3[0] = 99\n",
    "print(minhaLista3)\n",
    "\n",
    "# LETRA D\n",
    "indice = int(input(\"Informe um índice: \"))\n",
    "if (indice == 3):\n",
    "    print(True)\n",
    "else:\n",
    "    print(False)\n",
    "\n",
    "#LETRA E\n",
    "print(minhaLista7[:4] + minhaLista7[5:])"
   ]
  }
 ],
 "metadata": {
  "kernelspec": {
   "display_name": "Python 3",
   "language": "python",
   "name": "python3"
  },
  "language_info": {
   "codemirror_mode": {
    "name": "ipython",
    "version": 3
   },
   "file_extension": ".py",
   "mimetype": "text/x-python",
   "name": "python",
   "nbconvert_exporter": "python",
   "pygments_lexer": "ipython3",
   "version": "3.12.2"
  }
 },
 "nbformat": 4,
 "nbformat_minor": 2
}
