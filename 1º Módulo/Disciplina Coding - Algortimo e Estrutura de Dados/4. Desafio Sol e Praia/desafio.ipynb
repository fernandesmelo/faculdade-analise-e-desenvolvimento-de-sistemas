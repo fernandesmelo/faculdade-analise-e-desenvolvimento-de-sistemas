{
 "cells": [
  {
   "cell_type": "code",
   "execution_count": 2,
   "metadata": {},
   "outputs": [
    {
     "name": "stdout",
     "output_type": "stream",
     "text": [
      "Vou assistir Netflix :(\n"
     ]
    }
   ],
   "source": [
    "# Desafio\n",
    "# Escrever  em  Python  o  desenho  anterior, utilizando  conectivo lógico(and)e estrutura condicional (if - else). Se sol e dinheiro, então praia.Senão, netflix.\n",
    "\n",
    "sol = input(\"Está fazendo sol? (sim/não): \")\n",
    "dinheiro = input(\"Você tem dinheiro? (sim/não): \")\n",
    "\n",
    "if sol == \"sim\" and dinheiro == \"sim\":\n",
    "    print(\"Vou a praiaaaaaa!!!\")\n",
    "else:\n",
    "    print(\"Vou assistir Netflix :(\")"
   ]
  }
 ],
 "metadata": {
  "kernelspec": {
   "display_name": "Python 3",
   "language": "python",
   "name": "python3"
  },
  "language_info": {
   "codemirror_mode": {
    "name": "ipython",
    "version": 3
   },
   "file_extension": ".py",
   "mimetype": "text/x-python",
   "name": "python",
   "nbconvert_exporter": "python",
   "pygments_lexer": "ipython3",
   "version": "3.12.2"
  }
 },
 "nbformat": 4,
 "nbformat_minor": 2
}
