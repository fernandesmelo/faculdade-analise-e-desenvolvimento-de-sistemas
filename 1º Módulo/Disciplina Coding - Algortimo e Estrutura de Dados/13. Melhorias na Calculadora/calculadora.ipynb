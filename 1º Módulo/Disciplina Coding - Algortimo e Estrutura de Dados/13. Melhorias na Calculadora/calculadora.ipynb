{
 "cells": [
  {
   "cell_type": "code",
   "execution_count": 4,
   "metadata": {},
   "outputs": [
    {
     "name": "stdout",
     "output_type": "stream",
     "text": [
      "+===================+\n",
      "| MENU DE OPERAÇÕES |\n",
      "|  1 - somar        |\n",
      "|  2 - subtrair     |\n",
      "|  3 - multiplicar  |\n",
      "|  4 - dividir      |\n",
      "|  0 - sair         |\n",
      "+===================+\n",
      "Operação inválida. Tente novamente.\n",
      "O resultado da divisão é: 4.0\n",
      "+===================+\n",
      "| MENU DE OPERAÇÕES |\n",
      "|  1 - somar        |\n",
      "|  2 - subtrair     |\n",
      "|  3 - multiplicar  |\n",
      "|  4 - dividir      |\n",
      "|  0 - sair         |\n",
      "+===================+\n",
      "Saindo da calculadora. Até a próxima!\n"
     ]
    }
   ],
   "source": [
    "def soma(n1, n2):\n",
    "    return n1 + n2\n",
    "\n",
    "def subtracao(n1, n2):\n",
    "    return n1 - n2\n",
    "\n",
    "def multiplicacao(n1, n2):\n",
    "    return n1 * n2\n",
    "\n",
    "def divisao(n1, n2):\n",
    "    return n1 / n2\n",
    "    \n",
    "def obter_operacao():\n",
    "    while True:\n",
    "        operação = int(input(\"Escolha a operação: \"))\n",
    "        if operação in [0, 1, 2, 3, 4]:\n",
    "            return operação\n",
    "        else:\n",
    "            print(\"Operação inválida. Tente novamente.\")\n",
    "        \n",
    "while True:\n",
    "    print(\"+===================+\")\n",
    "    print(\"| MENU DE OPERAÇÕES |\")\n",
    "    print(\"|  1 - somar        |\")\n",
    "    print(\"|  2 - subtrair     |\")\n",
    "    print(\"|  3 - multiplicar  |\")\n",
    "    print(\"|  4 - dividir      |\")\n",
    "    print(\"|  0 - sair         |\")\n",
    "    print(\"+===================+\")\n",
    "\n",
    "    operação = obter_operacao()\n",
    "    if operação == 0:\n",
    "        print(\"Saindo da calculadora. Até a próxima!\")\n",
    "        break\n",
    "\n",
    "    n1 = obter_numero(\"Primeiro número: \")\n",
    "    n2 = obter_numero(\"Segundo número: \")\n",
    "\n",
    "    if operação == 1:\n",
    "        print(\"O resultado da soma é:\", soma(n1, n2))\n",
    "    elif operação == 2:\n",
    "        print(\"O resultado da subtração é:\", subtracao(n1, n2))\n",
    "    elif operação == 3:\n",
    "        print(\"O resultado da multiplicação é:\", multiplicacao(n1, n2))\n",
    "    elif operação == 4:\n",
    "        resultado = divisao(n1, n2)\n",
    "        if resultado == \"Erro: Divisão por zero.\":\n",
    "            print(resultado)\n",
    "        else:\n",
    "            print(\"O resultado da divisão é:\", resultado)\n"
   ]
  }
 ],
 "metadata": {
  "kernelspec": {
   "display_name": "Python 3",
   "language": "python",
   "name": "python3"
  },
  "language_info": {
   "codemirror_mode": {
    "name": "ipython",
    "version": 3
   },
   "file_extension": ".py",
   "mimetype": "text/x-python",
   "name": "python",
   "nbconvert_exporter": "python",
   "pygments_lexer": "ipython3",
   "version": "3.12.2"
  }
 },
 "nbformat": 4,
 "nbformat_minor": 2
}
