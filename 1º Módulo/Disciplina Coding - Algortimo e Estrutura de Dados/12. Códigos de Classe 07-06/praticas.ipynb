{
 "cells": [
  {
   "cell_type": "code",
   "execution_count": 1,
   "metadata": {},
   "outputs": [
    {
     "name": "stdout",
     "output_type": "stream",
     "text": [
      "Número 1\n",
      "Número 2\n",
      "Número 3\n",
      "Número 4\n",
      "Número 5\n"
     ]
    }
   ],
   "source": [
    "def funcaoLeitura():\n",
    "    for numero in [1, 2, 3, 4, 5]:\n",
    "        print(\"Número\", numero)\n",
    "\n",
    "funcaoLeitura()"
   ]
  },
  {
   "cell_type": "code",
   "execution_count": 2,
   "metadata": {},
   "outputs": [
    {
     "name": "stdout",
     "output_type": "stream",
     "text": [
      "Número 1\n",
      "Número 2\n",
      "Número 3\n",
      "Número 4\n",
      "Número 5\n"
     ]
    }
   ],
   "source": [
    "def funcaoLeitura():  \n",
    "    for numero in range(1, 6):\n",
    "        print(\"Número\", numero)\n",
    "\n",
    "funcaoLeitura()"
   ]
  },
  {
   "cell_type": "code",
   "execution_count": 5,
   "metadata": {},
   "outputs": [
    {
     "name": "stdout",
     "output_type": "stream",
     "text": [
      "Número 0\n",
      "Número 1\n",
      "Número 2\n",
      "Número 3\n",
      "Número 4\n"
     ]
    }
   ],
   "source": [
    "def funcaoLeitura():\n",
    "    for numero in range(5):\n",
    "        print(\"Número\", numero)\n",
    "\n",
    "funcaoLeitura()"
   ]
  },
  {
   "cell_type": "code",
   "execution_count": 3,
   "metadata": {},
   "outputs": [
    {
     "name": "stdout",
     "output_type": "stream",
     "text": [
      "O primeiro número é: 4\n",
      "O segundo número é: 3\n",
      "A soma dos número é: 7\n"
     ]
    }
   ],
   "source": [
    "def adicionaNumero(n1, n2):\n",
    "    print(\"O primeiro número é:\", n1)\n",
    "    print(\"O segundo número é:\", n2)\n",
    "    print(\"A soma dos número é:\", n1 + n2)\n",
    "\n",
    "adicionaNumero(4, 3)"
   ]
  },
  {
   "cell_type": "code",
   "execution_count": 9,
   "metadata": {},
   "outputs": [
    {
     "name": "stdout",
     "output_type": "stream",
     "text": [
      "Variável da função Multiplica: 20\n",
      "10\n"
     ]
    }
   ],
   "source": [
    "varGlobal = 10  \n",
    "\n",
    "def multiplicacao(num1, num2):\n",
    "    varGlobal = (num1 * num2)\n",
    "    print(\"Variável da função Multiplica:\", varGlobal)\n",
    "\n",
    "multiplicacao(5, 4)\n",
    "print(varGlobal)"
   ]
  },
  {
   "cell_type": "code",
   "execution_count": 5,
   "metadata": {},
   "outputs": [
    {
     "name": "stdout",
     "output_type": "stream",
     "text": [
      "Variável da função Multiplica: 20\n",
      "20\n"
     ]
    },
    {
     "ename": "NameError",
     "evalue": "name 'varLocal' is not defined",
     "output_type": "error",
     "traceback": [
      "\u001b[1;31m---------------------------------------------------------------------------\u001b[0m",
      "\u001b[1;31mNameError\u001b[0m                                 Traceback (most recent call last)",
      "Cell \u001b[1;32mIn[5], line 9\u001b[0m\n\u001b[0;32m      6\u001b[0m     \u001b[38;5;28mprint\u001b[39m(varLocal)\n\u001b[0;32m      8\u001b[0m multiplica(\u001b[38;5;241m5\u001b[39m, \u001b[38;5;241m4\u001b[39m)\n\u001b[1;32m----> 9\u001b[0m \u001b[38;5;28mprint\u001b[39m(\u001b[43mvarLocal\u001b[49m)\n",
      "\u001b[1;31mNameError\u001b[0m: name 'varLocal' is not defined"
     ]
    }
   ],
   "source": [
    "varGlobal = 10   \n",
    "\n",
    "def multiplica(num1, num2):\n",
    "    varLocal = num1 * num2   \n",
    "    print(\"Variável da função Multiplica:\", varLocal)\n",
    "    print(varLocal)\n",
    "\n",
    "multiplica(5, 4)\n",
    "print(varLocal)"
   ]
  },
  {
   "cell_type": "code",
   "execution_count": 4,
   "metadata": {},
   "outputs": [
    {
     "data": {
      "text/plain": [
       "['Cibele', 'Maria', 'Suely']"
      ]
     },
     "execution_count": 4,
     "metadata": {},
     "output_type": "execute_result"
    }
   ],
   "source": [
    "def separarTextos(texto):\n",
    "    return texto.split()\n",
    "\n",
    "separarTextos(\"Cibele Maria Suely\")"
   ]
  },
  {
   "cell_type": "code",
   "execution_count": 6,
   "metadata": {},
   "outputs": [
    {
     "name": "stdout",
     "output_type": "stream",
     "text": [
      "Parâmetro 0 Cibele\n",
      "Parâmetro 1 Suely\n",
      "Parâmetro 2 Giggio\n",
      "Parâmetro 3 Madá\n",
      "Parâmetro 4 Luquinhas\n"
     ]
    }
   ],
   "source": [
    "def variosParametros(* parametros):   \n",
    "    for numero, item in enumerate(parametros):   \n",
    "        print(\"Parâmetro\", numero, item)\n",
    "    return\n",
    "\n",
    "variosParametros(\"Cibele\", \"Suely\", \"Giggio\", \"Madá\", \"Luquinhas\")"
   ]
  },
  {
   "cell_type": "code",
   "execution_count": 2,
   "metadata": {},
   "outputs": [
    {
     "name": "stdout",
     "output_type": "stream",
     "text": [
      "+===================+\n",
      "| MENU DE OPERAÇÕES |\n",
      "|  1 - somar        |\n",
      "|  2 - subtrair     |\n",
      "|  3 - multiplicar  |\n",
      "|  4 - dividir      |\n",
      "|  0 - sair         |\n",
      "+===================+\n",
      "O resultado da subtração é: -3\n",
      "+===================+\n",
      "| MENU DE OPERAÇÕES |\n",
      "|  1 - somar        |\n",
      "|  2 - subtrair     |\n",
      "|  3 - multiplicar  |\n",
      "|  4 - dividir      |\n",
      "|  0 - sair         |\n",
      "+===================+\n",
      "O resultado da soma é: 10\n",
      "+===================+\n",
      "| MENU DE OPERAÇÕES |\n",
      "|  1 - somar        |\n",
      "|  2 - subtrair     |\n",
      "|  3 - multiplicar  |\n",
      "|  4 - dividir      |\n",
      "|  0 - sair         |\n",
      "+===================+\n"
     ]
    }
   ],
   "source": [
    "def soma(n1, n2):\n",
    "    return n1 + n2\n",
    "\n",
    "def subtracao(n1, n2):\n",
    "    return n1 - n2\n",
    "\n",
    "def multiplicacao(n1, n2):\n",
    "    return n1 * n2\n",
    "\n",
    "def divisao(n1, n2):\n",
    "    return n1 / n2\n",
    "\n",
    "while True:\n",
    "    print(\"+===================+\")\n",
    "    print(\"| MENU DE OPERAÇÕES |\")\n",
    "    print(\"|  1 - somar        |\")\n",
    "    print(\"|  2 - subtrair     |\")\n",
    "    print(\"|  3 - multiplicar  |\")\n",
    "    print(\"|  4 - dividir      |\")\n",
    "    print(\"|  0 - sair         |\")\n",
    "    print(\"+===================+\")\n",
    "\n",
    "    operação = int(input(\"Escolha a operação:\"))\n",
    "    if operação == 0:\n",
    "        break\n",
    "\n",
    "    n1 = int(input(\"Primeiro número:\"))\n",
    "    n2 = int(input(\"Segundo número:\"))\n",
    "\n",
    "    if operação == 1:            \n",
    "        print(\"O resultado da soma é:\", soma(n1, n2))\n",
    "    elif operação == 2:\n",
    "        print(\"O resultado da subtração é:\", subtracao(n1, n2))\n",
    "    elif operação == 3:\n",
    "        print(\"O resultado da multiplicação é:\", multiplicacao(n1, n2))\n",
    "    elif operação == 4:\n",
    "        print(\"O resultado da divisão é:\", divisao(n1, n2))\n",
    "    else:\n",
    "        print(\"Operação inválida. Tente novamente.\")\n"
   ]
  }
 ],
 "metadata": {
  "kernelspec": {
   "display_name": "base",
   "language": "python",
   "name": "python3"
  },
  "language_info": {
   "codemirror_mode": {
    "name": "ipython",
    "version": 3
   },
   "file_extension": ".py",
   "mimetype": "text/x-python",
   "name": "python",
   "nbconvert_exporter": "python",
   "pygments_lexer": "ipython3",
   "version": "3.12.2"
  }
 },
 "nbformat": 4,
 "nbformat_minor": 2
}
